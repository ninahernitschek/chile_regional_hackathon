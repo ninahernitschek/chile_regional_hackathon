{
 "cells": [
  {
   "cell_type": "markdown",
   "id": "66fd5795-91cb-49b1-9cc5-3031178b6faf",
   "metadata": {},
   "source": [
    "# Notebook 1: Introduction / Introducción"
   ]
  },
  {
   "cell_type": "markdown",
   "id": "8d8f753b-4da2-4a51-9eb8-62edae1e0ac2",
   "metadata": {},
   "source": [
    "Welcome! The main goal of this notebook is to provide a clear understanding of the problem at hand to prepare for the hackathon.\n",
    "\n",
    "\n",
    "<hr style=\"border:2px solid gray\">\n",
    "\n",
    "¡Bienvenido! El objetivo principal de este *Jupyter notebook* es facilitar una comprensión clara del problema que nos ocupa para prepararnos para el hackathon."
   ]
  },
  {
   "cell_type": "markdown",
   "id": "904d0317-af00-4c9a-a2f9-a81cd1f5bd82",
   "metadata": {},
   "source": [
    "---"
   ]
  },
  {
   "cell_type": "markdown",
   "id": "7051d103-0fb8-4247-94d3-f138ecd2e345",
   "metadata": {},
   "source": [
    "## Problem Description / Descripción del problema"
   ]
  },
  {
   "cell_type": "markdown",
   "id": "a4e6ba01-e8a6-4f3c-b373-6db139d3929c",
   "metadata": {},
   "source": [
    "### Introduction / Introducción"
   ]
  },
  {
   "cell_type": "markdown",
   "id": "ae1b4465-9fc3-4a5f-ac8f-d830d0961d1b",
   "metadata": {},
   "source": [
    "Nanosatellites are increasingly used as low-cost dedicated sensing systems for astronomical data. Kyushu Institute of Technology (Kyutech) and collaborators have launched a joint venture for a nanosatellite mission, Visible Extragalactic background RadiaTion Exploration by CubeSat (**VERTECS**). The primary purpose is to gain information about the formation history of stars by observing the optical-wavelength extragalactic background light (EBL). The **VERTECS** satellite will be equipped with a small-aperture telescope and a high-precision attitude control system to capture the astronomical data for analysis on the ground.\n",
    "\n",
    "<hr style=\"border:2px solid gray\">\n",
    "\n",
    "Los nanosatélites se utilizan cada vez más como sistemas de detección específicos de bajo coste para obtener datos astronómicos. El Instituto de Tecnología de Kyushu (Kyutech) y sus colaboradores han puesto en marcha una empresa conjunta para una misión con nanosatélites, Visible Extragalactic background RadiaTion Exploration by CubeSat (**VERTECS**). El objetivo principal es obtener información sobre la historia de la formación de las estrellas mediante la observación de la luz de fondo extragaláctica (optical-wavelength extragalactic background light, EBL) de longitud de onda óptica. El satélite **VERTECS** estará equipado con un telescopio de pequeña apertura y un sistema de control de actitud de alta precisión para captar los datos astronómicos que se analizarán en tierra."
   ]
  },
  {
   "cell_type": "markdown",
   "id": "73dd040b-2b76-4b54-9596-adc571bc9f23",
   "metadata": {},
   "source": [
    "<figure style=\"text-align:center;\">\n",
    "    <img src=\"pictures/SAT.png\" class=\"center-image\" style=\"width:900px; height:400px;\">\n",
    "    <figcaption>Figure 1: VERTECS Satellite Design</figcaption>\n",
    "</figure>"
   ]
  },
  {
   "cell_type": "markdown",
   "id": "bc88efda-4eee-428e-a1ed-3471854c36ba",
   "metadata": {},
   "source": [
    " However, nanosatellites/CubeSats have one prominent disadvantage lies in their size and weight constraints. Being small and compact significantly affects the computational power and onboard storage capacity available for data processing and analysis during missions. Moreover, the small surface area leaves limited space for communication equipment. This can make it hard for them to maintain strong connections with ground stations, leading to slower data transmission. As a result, they are not able to send large amounts of data quickly, which can be a problem for missions needing fast or continuous data updates. \n",
    " \n",
    " To solve the problem of slow data transmission in CubeSats, we can use machine learning techniques directly on the satellite. This allows the CubeSat to select **`priority`** data before sending it to the ground, making the process more efficient.\n",
    " \n",
    " <hr style=\"border:2px solid gray\">\n",
    " \n",
    "  Sin embargo, los nanosatélites/CubeSats tienen una desventaja importante: su tamaño y peso. El hecho de ser pequeños y compactos afecta significativamente a la potencia de cálculo y a la capacidad de almacenamiento a bordo disponibles para el procesamiento y análisis de datos durante las misiones. Además, su reducida superficie deja poco espacio para los equipos de comunicación. Esto puede dificultar el mantenimiento de conexiones sólidas con las estaciones terrestres, lo que ralentiza la transmisión de datos. Como resultado, no son capaces de enviar grandes cantidades de datos con rapidez, lo que puede ser un problema para las misiones que necesitan actualizaciones de datos rápidas o continuas. \n",
    "  \n",
    "  Para resolver el problema de la lentitud en la transmisión de datos en CubeSats, podemos utilizar técnicas de aprendizaje automático directamente en el satélite. Esto permite al CubeSat seleccionar los datos prioritarios antes de enviarlos a tierra, haciendo el proceso más eficiente. (En el código, utilizaremos el término inglés **`priority`**)."
   ]
  },
  {
   "cell_type": "markdown",
   "id": "6df0ebdb-6ec0-4c69-bee9-9e6bd7c7104b",
   "metadata": {},
   "source": [
    "### The goal of this hackathon /  El objetivo de este hackathon "
   ]
  },
  {
   "cell_type": "markdown",
   "id": "86361887-c914-41c4-9714-a7160426f825",
   "metadata": {},
   "source": [
    "Develop a machine learning model that accurately classifies data captured by CubeSats. The goal is to prioritize which images are most valuable for transmission back to Earth, given the limited onboard resources and slow data downlink speeds. Your task is to create a lightweight model that improves the efficiency and/or classification accuracy of the existing solution in this [paper](https://arxiv.org/pdf/2408.14865).\n",
    "\n",
    " <hr style=\"border:2px solid gray\">\n",
    " \n",
    "Desarrollar un modelo de aprendizaje automático que clasifique con precisión los datos captados por los CubeSats. El objetivo es priorizar qué imágenes son más valiosas para su transmisión a la Tierra, dados los limitados recursos a bordo y la lentitud de las velocidades de bajada de datos. Su tarea consiste en crear un modelo ligero que mejore la eficiencia y/o la precisión de clasificación de la solución existente en este [artículo científico](https://arxiv.org/pdf/2408.14865).\n"
   ]
  },
  {
   "cell_type": "markdown",
   "id": "5d124f84-532a-47f1-84eb-bd97082d8c80",
   "metadata": {},
   "source": [
    "---"
   ]
  },
  {
   "cell_type": "markdown",
   "id": "72d4d1ee-eb25-4dc3-96f7-560ec65277f2",
   "metadata": {},
   "source": [
    "## Prizes / Premios"
   ]
  },
  {
   "cell_type": "markdown",
   "id": "3fd77191-cb3e-40c6-a0b3-8ecf107b23f5",
   "metadata": {},
   "source": [
    "### A: Best Team per Regional Hackathon: / Mejor equipo por Hackathon regional:"
   ]
  },
  {
   "cell_type": "markdown",
   "id": "9d60c84e-06d7-4164-99fd-c17246a1eb24",
   "metadata": {},
   "source": [
    "Every team will present their work at their local events in front of local organizers and peers. 🎤 Each team will have **6 minutes** to present their work. The winning team from each regional hackathon will receive prizes worth approximately 3000 ZAR 🏆. Teams will be judged based on the following criteria:\n",
    "\n",
    "1. **Clarity of Problem Description**\n",
    "2. **Novelty**\n",
    "3. **Use of Graphics**\n",
    "4. **Presentation Skills**\n",
    "5. **Team Collaboration**\n",
    "\n",
    "For more detailed guidelines on how the judges will be evaluating you, please visit the following  [page](https://docs.google.com/document/d/1CUyLNZtQ8htKBXVJ-zhDiQpBoC8QY2eMx3aZMd1NhIo/edit).\n",
    "\n",
    "**Note**: All team members must participate in the presentation, sharing different parts of it among themselves. For example, one member can describe the problem, another can discuss the solution, and so on.\n",
    "\n",
    "\n",
    " <hr style=\"border:2px solid gray\">\n",
    " \n",
    "\n",
    "\n",
    "Cada equipo de este hackathon presentará su trabajo frente a organizadores locales y compañeros. 🎤 Cada equipo dispondrá de **6 minutos** para presentar su trabajo. El equipo ganador de cada hackathon regional recibirá premios por un valor aproximado de 3000 ZAR 🏆 (esto es aprox. 166000 CLP). Los equipos serán juzgados en base a los siguientes criterios:\n",
    "\n",
    "1. **Claridad de la descripción del problema**\n",
    "2. **Novedad**\n",
    "3. **Uso de gráficos**\n",
    "4. **Habilidades de presentación**\n",
    "5. **Colaboración en equipo**\n",
    "\n",
    "Para obtener información más detallada sobre cómo te evaluarán los jueces, visita la siguiente [página](https://docs.google.com/document/d/1CUyLNZtQ8htKBXVJ-zhDiQpBoC8QY2eMx3aZMd1NhIo/edit).\n",
    "\n",
    "**Nota**: Todos los miembros del equipo deben participar en la presentación, compartiendo diferentes partes de la misma entre ellos. Por ejemplo, un miembro puede describir el problema, otro puede discutir la solución, y así sucesivamente."
   ]
  },
  {
   "cell_type": "markdown",
   "id": "c551bc49-5d1e-4a43-9b06-c31de7785710",
   "metadata": {},
   "source": [
    "### B: Best overall pipeline across all Regional hackathons: / Mejor proyecto de clasificación global de todos los hackathons regionales:"
   ]
  },
  {
   "cell_type": "markdown",
   "id": "7677c6e5-5445-4e68-8401-f5a37bb34404",
   "metadata": {},
   "source": [
    "Every team from **each regional hackathon** has the opportunity to compete for this prize. To participate, all teams must submit the following to a shared folder managed by their local organizers:\n",
    "\n",
    "1. **Slides Presentation:** The slides used during their regional hackathon presentation.\n",
    "2. **Notebook:** Submit one clear, comprehensive notebook with all steps to reach the final results, written so that anyone can run the code successfully.\n",
    "3. **Written Description:** Teams must submit a 200-350 word description, with relevant graphs if necessary, covering the following:\n",
    "    1. **Preprocessing & ML Methods:** Summarize the preprocessing and machine learning techniques used, and justify the pipeline choice (experimentation or literature review).\n",
    "    2. **Results:** Highlight key outcomes and explain how they compare with previous work, emphasizing the novelty of your approach.\n",
    "\n",
    "\n",
    "\n",
    " <hr style=\"border:2px solid gray\">\n",
    " \n",
    "\n",
    "\n",
    "Todos los equipos de **cada hackathon regional** tienen la oportunidad de competir por este premio. Para participar, todos los equipos deben enviar lo siguiente a una carpeta compartida gestionada por sus organizadores locales:\n",
    "\n",
    "1. **Presentación de diapositivas:** Las diapositivas utilizadas durante la presentación de su hackathon regional.\n",
    "2. **Jupyter notebook:** Presentar un Jupyter notebook claro y completo con todos los pasos para llegar a los resultados finales, escrito de forma que cualquiera pueda ejecutar el código con éxito.\n",
    "3. **Descripción escrita:** Los equipos deben presentar una descripción de 200-350 palabras **en inglès**, con gráficos relevantes si es necesario, que cubra lo siguiente:\n",
    "    1. **Métodos de preprocesamiento y métodos de aprendizaje automático:** Resumir las técnicas de preprocesamiento y aprendizaje automático utilizadas, y justificar la elección de la tubería (experimentación o revisión de la literatura).\n",
    "    2. **Resultados:** Destaque los resultados clave y explique cómo se comparan con trabajos anteriores, haciendo hincapié en la novedad de su enfoque."
   ]
  },
  {
   "cell_type": "markdown",
   "id": "123f2d2a-8296-4e34-b3f4-d92d73e7da75",
   "metadata": {},
   "source": [
    "A committee of experienced ML academics will evaluate each team’s pipeline based on the clarity of their slides, notebooks, and write-ups, as well as the novelty of their approach. All teams are highly encouraged to apply 🙌, as we will use a separate testing set, and your results may vary from the validation set you’ve used.\n",
    "\n",
    "🎉 **Prize:** The winning team will be featured as co-authors on an academic paper written by Hack4dev and will receive an additional prize of **10,000ZAR**.\n",
    "\n",
    "⚠️ Important: Submissions are due one day after the hackathon concludes – don’t miss the deadline! 🛑 Ensure all your work is submitted on time to avoid disqualification. **All documents must be submitted in English**.\n",
    "\n",
    "Good luck! 🍀\n",
    "\n",
    "\n",
    " <hr style=\"border:2px solid gray\">\n",
    " \n",
    "\n",
    "Un comité de académicos con experiencia en aprendizaje automático evaluará el pipeline de cada equipo basándose en la claridad de sus diapositivas, cuadernos y escritos, así como en la novedad de su enfoque. Se recomienda encarecidamente a todos los equipos que se presenten 🙌, ya que utilizaremos un conjunto de pruebas independiente, y sus resultados pueden variar con respecto al conjunto de validación que hayan utilizado.\n",
    "\n",
    "🎉 **Premio:** El equipo ganador figurará como coautor en un artículo académico escrito por Hack4dev y recibirá un premio adicional de **10.000ZAR** (aprox. 552000 CLP).\n",
    "\n",
    "⚠️ Importante: Los trabajos deben enviarse un día después de que concluya el hackathon, ¡no dejes pasar la fecha límite! 🛑 Asegúrate de que todos tus trabajos se presentan a tiempo para evitar la descalificación. **Todos los documentos deben presentarse en inglés.**\n",
    "\n",
    "¡Mucha suerte! 🍀"
   ]
  },
  {
   "cell_type": "markdown",
   "id": "03a07bac-2f90-454e-a7c1-9f1534fc14be",
   "metadata": {},
   "source": [
    "---"
   ]
  },
  {
   "cell_type": "markdown",
   "id": "41726447-4d9a-4c46-b58b-d300066995d5",
   "metadata": {},
   "source": [
    "## Structure for the Upcoming Notebooks / Estructura de los próximos Jupyter Notebooks"
   ]
  },
  {
   "cell_type": "markdown",
   "id": "7efe61d6-e918-44b7-907b-550a8b801967",
   "metadata": {},
   "source": [
    "- Notebook 2: **Data Reading** – This notebook handles reading and visualizing the data.\n",
    "- Notebook 3: **ML** – Here we train a classical ML model and evaluate it against the model in Notebook 4.\n",
    "- Notebook 4: **CubeSatNet_CNN** – Trains the model provided by the authors in [link](https://arxiv.org/pdf/2408.14865) and uses it as a baseline against Notebook 3. Only run it if you’re adopting or experimenting with this model, as it can take up to two hours to train with the original data.\n",
    "- Notebook 5: **Evaluation**\n",
    "\n",
    " <hr style=\"border:2px solid gray\">\n",
    " \n",
    "- Notebook 2: **Data Reading** – Este Jupyter notebook se encarga de leer y visualizar los datos.\n",
    "- Notebook 3: **ML** - Aquí entrenamos un modelo aprendizaje automático clásico y lo evaluamos contra el modelo del Notebook 4.\n",
    "- Notebook 4: **CubeSatNet_CNN** - Entrena el modelo proporcionado por los autores en [link](https://arxiv.org/pdf/2408.14865) y lo utiliza como línea de base contra el Notebook 3. Sólo ejecútelo si adopta el modelo de aprendizaje automático clásico. Sólo ejecútelo si está adoptando o experimentando con este modelo, ya que puede tardar hasta dos horas en entrenarse con los datos originales.\n",
    "- Notebook 5: **Evaluación**"
   ]
  },
  {
   "cell_type": "code",
   "execution_count": null,
   "id": "ecdab3f1",
   "metadata": {},
   "outputs": [],
   "source": []
  }
 ],
 "metadata": {
  "kernelspec": {
   "display_name": "Python 3 (ipykernel)",
   "language": "python",
   "name": "python3"
  },
  "language_info": {
   "codemirror_mode": {
    "name": "ipython",
    "version": 3
   },
   "file_extension": ".py",
   "mimetype": "text/x-python",
   "name": "python",
   "nbconvert_exporter": "python",
   "pygments_lexer": "ipython3",
   "version": "3.10.12"
  }
 },
 "nbformat": 4,
 "nbformat_minor": 5
}
